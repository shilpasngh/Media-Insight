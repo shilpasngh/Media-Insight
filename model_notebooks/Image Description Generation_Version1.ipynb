{
 "cells": [
  {
   "cell_type": "markdown",
   "id": "2fa5b7ab-42d9-47b8-b448-495ebd9785ba",
   "metadata": {},
   "source": [
    "### Use Case 2: Image Description Generation"
   ]
  },
  {
   "cell_type": "markdown",
   "id": "1492a3ee-e14e-4bf2-b77d-479d85ae1b56",
   "metadata": {},
   "source": [
    "#### 1. Set Up the Environment"
   ]
  },
  {
   "cell_type": "code",
   "execution_count": 1,
   "id": "988918f1-ec6f-408b-b731-cf750e673238",
   "metadata": {},
   "outputs": [
    {
     "name": "stdout",
     "output_type": "stream",
     "text": [
      "Defaulting to user installation because normal site-packages is not writeable\n",
      "Requirement already satisfied: tensorflow in c:\\users\\lenovo\\appdata\\roaming\\python\\python312\\site-packages (2.18.0)\n",
      "Requirement already satisfied: keras in c:\\users\\lenovo\\appdata\\roaming\\python\\python312\\site-packages (2.11.0)\n",
      "Requirement already satisfied: numpy in c:\\users\\lenovo\\appdata\\roaming\\python\\python312\\site-packages (2.1.3)\n",
      "Requirement already satisfied: pandas in c:\\users\\lenovo\\appdata\\roaming\\python\\python312\\site-packages (2.2.2)\n",
      "Collecting nltk\n",
      "  Downloading nltk-3.9.1-py3-none-any.whl.metadata (2.9 kB)\n",
      "Requirement already satisfied: tensorflow-intel==2.18.0 in c:\\users\\lenovo\\appdata\\roaming\\python\\python312\\site-packages (from tensorflow) (2.18.0)\n",
      "Requirement already satisfied: absl-py>=1.0.0 in c:\\users\\lenovo\\appdata\\roaming\\python\\python312\\site-packages (from tensorflow-intel==2.18.0->tensorflow) (2.1.0)\n",
      "Requirement already satisfied: astunparse>=1.6.0 in c:\\users\\lenovo\\appdata\\roaming\\python\\python312\\site-packages (from tensorflow-intel==2.18.0->tensorflow) (1.6.3)\n",
      "Requirement already satisfied: flatbuffers>=24.3.25 in c:\\users\\lenovo\\appdata\\roaming\\python\\python312\\site-packages (from tensorflow-intel==2.18.0->tensorflow) (24.3.25)\n",
      "Requirement already satisfied: gast!=0.5.0,!=0.5.1,!=0.5.2,>=0.2.1 in c:\\users\\lenovo\\appdata\\roaming\\python\\python312\\site-packages (from tensorflow-intel==2.18.0->tensorflow) (0.6.0)\n",
      "Requirement already satisfied: google-pasta>=0.1.1 in c:\\users\\lenovo\\appdata\\roaming\\python\\python312\\site-packages (from tensorflow-intel==2.18.0->tensorflow) (0.2.0)\n",
      "Requirement already satisfied: libclang>=13.0.0 in c:\\users\\lenovo\\appdata\\roaming\\python\\python312\\site-packages (from tensorflow-intel==2.18.0->tensorflow) (18.1.1)\n",
      "Requirement already satisfied: opt-einsum>=2.3.2 in c:\\users\\lenovo\\appdata\\roaming\\python\\python312\\site-packages (from tensorflow-intel==2.18.0->tensorflow) (3.4.0)\n",
      "Requirement already satisfied: packaging in c:\\users\\lenovo\\appdata\\roaming\\python\\python312\\site-packages (from tensorflow-intel==2.18.0->tensorflow) (23.2)\n",
      "Requirement already satisfied: protobuf!=4.21.0,!=4.21.1,!=4.21.2,!=4.21.3,!=4.21.4,!=4.21.5,<6.0.0dev,>=3.20.3 in c:\\users\\lenovo\\appdata\\roaming\\python\\python312\\site-packages (from tensorflow-intel==2.18.0->tensorflow) (5.28.3)\n",
      "Requirement already satisfied: requests<3,>=2.21.0 in c:\\users\\lenovo\\appdata\\roaming\\python\\python312\\site-packages (from tensorflow-intel==2.18.0->tensorflow) (2.31.0)\n",
      "Requirement already satisfied: setuptools in c:\\users\\lenovo\\appdata\\roaming\\python\\python312\\site-packages (from tensorflow-intel==2.18.0->tensorflow) (74.1.2)\n",
      "Requirement already satisfied: six>=1.12.0 in c:\\users\\lenovo\\appdata\\roaming\\python\\python312\\site-packages (from tensorflow-intel==2.18.0->tensorflow) (1.16.0)\n",
      "Requirement already satisfied: termcolor>=1.1.0 in c:\\users\\lenovo\\appdata\\roaming\\python\\python312\\site-packages (from tensorflow-intel==2.18.0->tensorflow) (2.5.0)\n",
      "Requirement already satisfied: typing-extensions>=3.6.6 in c:\\users\\lenovo\\appdata\\roaming\\python\\python312\\site-packages (from tensorflow-intel==2.18.0->tensorflow) (4.12.2)\n",
      "Requirement already satisfied: wrapt>=1.11.0 in c:\\users\\lenovo\\appdata\\roaming\\python\\python312\\site-packages (from tensorflow-intel==2.18.0->tensorflow) (1.16.0)\n",
      "Requirement already satisfied: grpcio<2.0,>=1.24.3 in c:\\users\\lenovo\\appdata\\roaming\\python\\python312\\site-packages (from tensorflow-intel==2.18.0->tensorflow) (1.67.0)\n",
      "Requirement already satisfied: tensorboard<2.19,>=2.18 in c:\\users\\lenovo\\appdata\\roaming\\python\\python312\\site-packages (from tensorflow-intel==2.18.0->tensorflow) (2.18.0)\n",
      "Collecting keras\n",
      "  Using cached keras-3.6.0-py3-none-any.whl.metadata (5.8 kB)\n",
      "Collecting numpy\n",
      "  Downloading numpy-2.0.2-cp312-cp312-win_amd64.whl.metadata (59 kB)\n",
      "     ---------------------------------------- 0.0/59.7 kB ? eta -:--:--\n",
      "     ------ --------------------------------- 10.2/59.7 kB ? eta -:--:--\n",
      "     ------------- ------------------------ 20.5/59.7 kB 330.3 kB/s eta 0:00:01\n",
      "     -------------------------------- ----- 51.2/59.7 kB 435.7 kB/s eta 0:00:01\n",
      "     -------------------------------------- 59.7/59.7 kB 454.1 kB/s eta 0:00:00\n",
      "Requirement already satisfied: h5py>=3.11.0 in c:\\users\\lenovo\\appdata\\roaming\\python\\python312\\site-packages (from tensorflow-intel==2.18.0->tensorflow) (3.12.1)\n",
      "Requirement already satisfied: ml-dtypes<0.5.0,>=0.4.0 in c:\\users\\lenovo\\appdata\\roaming\\python\\python312\\site-packages (from tensorflow-intel==2.18.0->tensorflow) (0.4.1)\n",
      "Requirement already satisfied: rich in c:\\users\\lenovo\\appdata\\roaming\\python\\python312\\site-packages (from keras) (13.9.3)\n",
      "Requirement already satisfied: namex in c:\\users\\lenovo\\appdata\\roaming\\python\\python312\\site-packages (from keras) (0.0.8)\n",
      "Requirement already satisfied: optree in c:\\users\\lenovo\\appdata\\roaming\\python\\python312\\site-packages (from keras) (0.13.0)\n",
      "Requirement already satisfied: python-dateutil>=2.8.2 in c:\\users\\lenovo\\appdata\\roaming\\python\\python312\\site-packages (from pandas) (2.9.0.post0)\n",
      "Requirement already satisfied: pytz>=2020.1 in c:\\users\\lenovo\\appdata\\roaming\\python\\python312\\site-packages (from pandas) (2024.2)\n",
      "Requirement already satisfied: tzdata>=2022.7 in c:\\users\\lenovo\\appdata\\roaming\\python\\python312\\site-packages (from pandas) (2024.1)\n",
      "Requirement already satisfied: click in c:\\users\\lenovo\\appdata\\roaming\\python\\python312\\site-packages (from nltk) (8.1.7)\n",
      "Requirement already satisfied: joblib in c:\\users\\lenovo\\appdata\\roaming\\python\\python312\\site-packages (from nltk) (1.4.2)\n",
      "Requirement already satisfied: regex>=2021.8.3 in c:\\users\\lenovo\\appdata\\roaming\\python\\python312\\site-packages (from nltk) (2024.9.11)\n",
      "Requirement already satisfied: tqdm in c:\\users\\lenovo\\appdata\\roaming\\python\\python312\\site-packages (from nltk) (4.66.5)\n",
      "Requirement already satisfied: colorama in c:\\users\\lenovo\\appdata\\roaming\\python\\python312\\site-packages (from click->nltk) (0.4.6)\n",
      "Requirement already satisfied: markdown-it-py>=2.2.0 in c:\\users\\lenovo\\appdata\\roaming\\python\\python312\\site-packages (from rich->keras) (3.0.0)\n",
      "Requirement already satisfied: pygments<3.0.0,>=2.13.0 in c:\\users\\lenovo\\appdata\\roaming\\python\\python312\\site-packages (from rich->keras) (2.18.0)\n",
      "Requirement already satisfied: wheel<1.0,>=0.23.0 in c:\\users\\lenovo\\appdata\\roaming\\python\\python312\\site-packages (from astunparse>=1.6.0->tensorflow-intel==2.18.0->tensorflow) (0.43.0)\n",
      "Requirement already satisfied: mdurl~=0.1 in c:\\users\\lenovo\\appdata\\roaming\\python\\python312\\site-packages (from markdown-it-py>=2.2.0->rich->keras) (0.1.2)\n",
      "Requirement already satisfied: charset-normalizer<4,>=2 in c:\\users\\lenovo\\appdata\\roaming\\python\\python312\\site-packages (from requests<3,>=2.21.0->tensorflow-intel==2.18.0->tensorflow) (3.3.2)\n",
      "Requirement already satisfied: idna<4,>=2.5 in c:\\users\\lenovo\\appdata\\roaming\\python\\python312\\site-packages (from requests<3,>=2.21.0->tensorflow-intel==2.18.0->tensorflow) (3.6)\n",
      "Requirement already satisfied: urllib3<3,>=1.21.1 in c:\\users\\lenovo\\appdata\\roaming\\python\\python312\\site-packages (from requests<3,>=2.21.0->tensorflow-intel==2.18.0->tensorflow) (2.2.1)\n",
      "Requirement already satisfied: certifi>=2017.4.17 in c:\\users\\lenovo\\appdata\\roaming\\python\\python312\\site-packages (from requests<3,>=2.21.0->tensorflow-intel==2.18.0->tensorflow) (2024.2.2)\n",
      "Requirement already satisfied: markdown>=2.6.8 in c:\\users\\lenovo\\appdata\\roaming\\python\\python312\\site-packages (from tensorboard<2.19,>=2.18->tensorflow-intel==2.18.0->tensorflow) (3.7)\n",
      "Requirement already satisfied: tensorboard-data-server<0.8.0,>=0.7.0 in c:\\users\\lenovo\\appdata\\roaming\\python\\python312\\site-packages (from tensorboard<2.19,>=2.18->tensorflow-intel==2.18.0->tensorflow) (0.7.2)\n",
      "Requirement already satisfied: werkzeug>=1.0.1 in c:\\users\\lenovo\\appdata\\roaming\\python\\python312\\site-packages (from tensorboard<2.19,>=2.18->tensorflow-intel==2.18.0->tensorflow) (2.0.3)\n",
      "Using cached keras-3.6.0-py3-none-any.whl (1.2 MB)\n",
      "Downloading numpy-2.0.2-cp312-cp312-win_amd64.whl (15.6 MB)\n",
      "   ---------------------------------------- 0.0/15.6 MB ? eta -:--:--\n",
      "   ---------------------------------------- 0.0/15.6 MB ? eta -:--:--\n",
      "    --------------------------------------- 0.2/15.6 MB 3.7 MB/s eta 0:00:05\n",
      "    --------------------------------------- 0.4/15.6 MB 3.7 MB/s eta 0:00:05\n",
      "   - -------------------------------------- 0.5/15.6 MB 3.6 MB/s eta 0:00:05\n",
      "   - -------------------------------------- 0.7/15.6 MB 3.8 MB/s eta 0:00:04\n",
      "   -- ------------------------------------- 0.9/15.6 MB 3.6 MB/s eta 0:00:05\n",
      "   -- ------------------------------------- 1.1/15.6 MB 3.9 MB/s eta 0:00:04\n",
      "   --- ------------------------------------ 1.3/15.6 MB 3.9 MB/s eta 0:00:04\n",
      "   ---- ----------------------------------- 1.6/15.6 MB 4.2 MB/s eta 0:00:04\n",
      "   ---- ----------------------------------- 1.8/15.6 MB 4.5 MB/s eta 0:00:04\n",
      "   ----- ---------------------------------- 2.2/15.6 MB 4.4 MB/s eta 0:00:04\n",
      "   ------ --------------------------------- 2.4/15.6 MB 4.5 MB/s eta 0:00:03\n",
      "   ------ --------------------------------- 2.7/15.6 MB 4.8 MB/s eta 0:00:03\n",
      "   ------- -------------------------------- 3.0/15.6 MB 5.0 MB/s eta 0:00:03\n",
      "   -------- ------------------------------- 3.4/15.6 MB 5.1 MB/s eta 0:00:03\n",
      "   --------- ------------------------------ 3.8/15.6 MB 5.3 MB/s eta 0:00:03\n",
      "   ---------- ----------------------------- 4.0/15.6 MB 5.2 MB/s eta 0:00:03\n",
      "   ----------- ---------------------------- 4.4/15.6 MB 5.4 MB/s eta 0:00:03\n",
      "   ------------ --------------------------- 4.7/15.6 MB 5.5 MB/s eta 0:00:02\n",
      "   ------------ --------------------------- 5.0/15.6 MB 5.5 MB/s eta 0:00:02\n",
      "   ------------- -------------------------- 5.4/15.6 MB 5.6 MB/s eta 0:00:02\n",
      "   -------------- ------------------------- 5.7/15.6 MB 5.7 MB/s eta 0:00:02\n",
      "   --------------- ------------------------ 6.1/15.6 MB 5.8 MB/s eta 0:00:02\n",
      "   ---------------- ----------------------- 6.4/15.6 MB 6.0 MB/s eta 0:00:02\n",
      "   ----------------- ---------------------- 6.7/15.6 MB 6.0 MB/s eta 0:00:02\n",
      "   ----------------- ---------------------- 6.9/15.6 MB 5.9 MB/s eta 0:00:02\n",
      "   ------------------ --------------------- 7.2/15.6 MB 5.9 MB/s eta 0:00:02\n",
      "   ------------------ --------------------- 7.4/15.6 MB 5.8 MB/s eta 0:00:02\n",
      "   -------------------- ------------------- 7.8/15.6 MB 5.9 MB/s eta 0:00:02\n",
      "   -------------------- ------------------- 8.2/15.6 MB 6.0 MB/s eta 0:00:02\n",
      "   --------------------- ------------------ 8.5/15.6 MB 6.0 MB/s eta 0:00:02\n",
      "   ---------------------- ----------------- 8.9/15.6 MB 6.1 MB/s eta 0:00:02\n",
      "   ----------------------- ---------------- 9.3/15.6 MB 6.2 MB/s eta 0:00:02\n",
      "   ------------------------ --------------- 9.7/15.6 MB 6.3 MB/s eta 0:00:01\n",
      "   ------------------------- -------------- 10.1/15.6 MB 6.4 MB/s eta 0:00:01\n",
      "   -------------------------- ------------- 10.5/15.6 MB 6.5 MB/s eta 0:00:01\n",
      "   --------------------------- ------------ 10.9/15.6 MB 6.7 MB/s eta 0:00:01\n",
      "   ---------------------------- ----------- 11.2/15.6 MB 7.0 MB/s eta 0:00:01\n",
      "   ----------------------------- ---------- 11.5/15.6 MB 7.1 MB/s eta 0:00:01\n",
      "   ------------------------------ --------- 11.8/15.6 MB 7.0 MB/s eta 0:00:01\n",
      "   ------------------------------- -------- 12.1/15.6 MB 7.2 MB/s eta 0:00:01\n",
      "   -------------------------------- ------- 12.5/15.6 MB 7.3 MB/s eta 0:00:01\n",
      "   --------------------------------- ------ 12.9/15.6 MB 7.3 MB/s eta 0:00:01\n",
      "   ---------------------------------- ----- 13.3/15.6 MB 7.4 MB/s eta 0:00:01\n",
      "   ---------------------------------- ----- 13.6/15.6 MB 7.4 MB/s eta 0:00:01\n",
      "   ------------------------------------ --- 14.1/15.6 MB 7.4 MB/s eta 0:00:01\n",
      "   ------------------------------------ --- 14.4/15.6 MB 7.4 MB/s eta 0:00:01\n",
      "   ------------------------------------- -- 14.8/15.6 MB 7.5 MB/s eta 0:00:01\n",
      "   -------------------------------------- - 15.1/15.6 MB 7.6 MB/s eta 0:00:01\n",
      "   ---------------------------------------  15.5/15.6 MB 7.5 MB/s eta 0:00:01\n",
      "   ---------------------------------------  15.6/15.6 MB 7.5 MB/s eta 0:00:01\n",
      "   ---------------------------------------- 15.6/15.6 MB 7.3 MB/s eta 0:00:00\n",
      "Downloading nltk-3.9.1-py3-none-any.whl (1.5 MB)\n",
      "   ---------------------------------------- 0.0/1.5 MB ? eta -:--:--\n",
      "   ------------ --------------------------- 0.5/1.5 MB 10.0 MB/s eta 0:00:01\n",
      "   ---------------------- ----------------- 0.9/1.5 MB 10.9 MB/s eta 0:00:01\n",
      "   ------------------------------------- -- 1.4/1.5 MB 10.1 MB/s eta 0:00:01\n",
      "   ---------------------------------------- 1.5/1.5 MB 8.7 MB/s eta 0:00:00\n",
      "Installing collected packages: numpy, nltk, keras\n",
      "  Attempting uninstall: numpy\n",
      "    Found existing installation: numpy 2.1.3\n",
      "    Uninstalling numpy-2.1.3:\n",
      "      Successfully uninstalled numpy-2.1.3\n",
      "  Attempting uninstall: keras\n",
      "    Found existing installation: keras 2.11.0\n",
      "    Uninstalling keras-2.11.0:\n",
      "      Successfully uninstalled keras-2.11.0\n",
      "Successfully installed keras-3.6.0 nltk-3.9.1 numpy-2.0.2\n",
      "Note: you may need to restart the kernel to use updated packages.\n"
     ]
    },
    {
     "name": "stderr",
     "output_type": "stream",
     "text": [
      "\n",
      "[notice] A new release of pip is available: 24.0 -> 24.3.1\n",
      "[notice] To update, run: python.exe -m pip install --upgrade pip\n"
     ]
    }
   ],
   "source": [
    "pip install tensorflow keras numpy pandas nltk"
   ]
  },
  {
   "cell_type": "markdown",
   "id": "329c5610-071c-4eee-9ec4-90810e293905",
   "metadata": {},
   "source": [
    "### 2. Import Libraries"
   ]
  },
  {
   "cell_type": "code",
   "execution_count": 2,
   "id": "29bf4c38-1938-4b8a-bffb-f72c00695eb6",
   "metadata": {},
   "outputs": [],
   "source": [
    "import pandas as pd\n",
    "import string\n",
    "import pickle\n",
    "from tensorflow.keras.applications import VGG16\n",
    "from tensorflow.keras.preprocessing.image import load_img, img_to_array\n",
    "from tensorflow.keras.applications.vgg16 import preprocess_input\n",
    "from tensorflow.keras.models import Model\n",
    "import numpy as np\n",
    "import os"
   ]
  },
  {
   "cell_type": "markdown",
   "id": "51e16db7-8da5-421d-9395-aca2fda66758",
   "metadata": {},
   "source": [
    "### 3. Load and Read Captions"
   ]
  },
  {
   "cell_type": "code",
   "execution_count": 3,
   "id": "7a0b6f92-9d4e-45dc-91dc-7d6318cbdd62",
   "metadata": {},
   "outputs": [
    {
     "name": "stdout",
     "output_type": "stream",
     "text": [
      "       image_name  comment_number  \\\n",
      "0  1000092795.jpg               0   \n",
      "1  1000092795.jpg               1   \n",
      "2  1000092795.jpg               2   \n",
      "3  1000092795.jpg               3   \n",
      "4  1000092795.jpg               4   \n",
      "\n",
      "                                             comment  \n",
      "0   Two young guys with shaggy hair look at their...  \n",
      "1   Two young , White males are outside near many...  \n",
      "2   Two men in green shirts are standing in a yard .  \n",
      "3       A man in a blue shirt standing in a garden .  \n",
      "4            Two friends enjoy time spent together .  \n",
      "(158915, 3)\n"
     ]
    }
   ],
   "source": [
    "# Define the path to the captions CSV file\n",
    "captions_file = 'D:/Jupyter/Image Description/results.csv'\n",
    "\n",
    "# Load the captions CSV file\n",
    "captions = pd.read_csv(captions_file, delimiter='|')\n",
    "\n",
    "# Display the first few rows to inspect\n",
    "print(captions.head())\n",
    "print(captions.shape)"
   ]
  },
  {
   "cell_type": "markdown",
   "id": "8ba70a99-0ad3-461d-a215-3fc63f81ceb0",
   "metadata": {},
   "source": [
    "### 4. Data Preprocessing"
   ]
  },
  {
   "cell_type": "markdown",
   "id": "537bc061-b723-47ea-a69e-be6b16708b71",
   "metadata": {},
   "source": [
    "##### 4.1 Clean Up Column Names"
   ]
  },
  {
   "cell_type": "code",
   "execution_count": 4,
   "id": "60cfab37-cab8-43fe-b8ea-643a90c61ca2",
   "metadata": {},
   "outputs": [],
   "source": [
    "# Remove leading or trailing spaces in column names\n",
    "captions.columns = captions.columns.str.strip()"
   ]
  },
  {
   "cell_type": "markdown",
   "id": "f5b9a54b-d427-45de-b5b2-b622c8662876",
   "metadata": {},
   "source": [
    "##### 4.2. Remove or Fill Missing Values"
   ]
  },
  {
   "cell_type": "code",
   "execution_count": 5,
   "id": "111bbc92-2973-4291-aadf-f4e888c1e278",
   "metadata": {},
   "outputs": [
    {
     "name": "stderr",
     "output_type": "stream",
     "text": [
      "C:\\Users\\Lenovo\\AppData\\Local\\Temp\\ipykernel_15996\\1613048732.py:2: FutureWarning: A value is trying to be set on a copy of a DataFrame or Series through chained assignment using an inplace method.\n",
      "The behavior will change in pandas 3.0. This inplace method will never work because the intermediate object on which we are setting values always behaves as a copy.\n",
      "\n",
      "For example, when doing 'df[col].method(value, inplace=True)', try using 'df.method({col: value}, inplace=True)' or df[col] = df[col].method(value) instead, to perform the operation inplace on the original object.\n",
      "\n",
      "\n",
      "  captions['comment'].fillna('', inplace=True)\n"
     ]
    }
   ],
   "source": [
    "# Fill missing values in 'comment' column with an empty string\n",
    "captions['comment'].fillna('', inplace=True)"
   ]
  },
  {
   "cell_type": "markdown",
   "id": "a02ad984-6d82-4f6e-8a08-b768215775da",
   "metadata": {},
   "source": [
    "##### 4.3. Clean the Captions"
   ]
  },
  {
   "cell_type": "code",
   "execution_count": 6,
   "id": "2c8ad8de-cb19-4bd3-bc11-58681401d6e7",
   "metadata": {},
   "outputs": [
    {
     "name": "stdout",
     "output_type": "stream",
     "text": [
      "                                             comment  \\\n",
      "0   Two young guys with shaggy hair look at their...   \n",
      "1   Two young , White males are outside near many...   \n",
      "2   Two men in green shirts are standing in a yard .   \n",
      "3       A man in a blue shirt standing in a garden .   \n",
      "4            Two friends enjoy time spent together .   \n",
      "\n",
      "                                     cleaned_comment  \n",
      "0  two young guys with shaggy hair look at their ...  \n",
      "1  two young white males are outside near many bu...  \n",
      "2       two men in green shirts are standing in yard  \n",
      "3               man in blue shirt standing in garden  \n",
      "4              two friends enjoy time spent together  \n"
     ]
    }
   ],
   "source": [
    "import re\n",
    "\n",
    "# Function to clean text\n",
    "def clean_caption(caption):\n",
    "    caption = caption.lower()  # Convert to lowercase\n",
    "    caption = re.sub(r\"[^a-zA-Z0-9\\s]\", \"\", caption)  # Remove punctuation\n",
    "    caption = caption.split()  # Tokenize by splitting on whitespace\n",
    "    caption = [word for word in caption if len(word) > 1]  # Remove short words\n",
    "    return \" \".join(caption)  # Join words back to a cleaned sentence\n",
    "\n",
    "# Apply the cleaning function to the 'comment' column\n",
    "captions['cleaned_comment'] = captions['comment'].apply(clean_caption)\n",
    "\n",
    "# Display the first few rows to verify the cleaning\n",
    "print(captions[['comment', 'cleaned_comment']].head())\n"
   ]
  },
  {
   "cell_type": "markdown",
   "id": "3f2e9530-7e37-4462-892b-4f67a7828de5",
   "metadata": {},
   "source": [
    "##### 4.4. Tokenize the Captions and Save"
   ]
  },
  {
   "cell_type": "code",
   "execution_count": 7,
   "id": "8c8608a5-c8c7-4817-8e3a-0303322edbcf",
   "metadata": {},
   "outputs": [
    {
     "name": "stdout",
     "output_type": "stream",
     "text": [
      "                                             comment  \\\n",
      "0   Two young guys with shaggy hair look at their...   \n",
      "1   Two young , White males are outside near many...   \n",
      "2   Two men in green shirts are standing in a yard .   \n",
      "3       A man in a blue shirt standing in a garden .   \n",
      "4            Two friends enjoy time spent together .   \n",
      "\n",
      "                                         caption_seq  \n",
      "0  [11, 20, 325, 9, 2037, 87, 186, 15, 61, 158, 2...  \n",
      "1           [11, 20, 19, 709, 12, 53, 78, 193, 1426]  \n",
      "2            [11, 28, 2, 45, 222, 12, 30, 2, 1, 489]  \n",
      "3                [1, 6, 2, 1, 24, 18, 30, 2, 1, 711]  \n",
      "4                     [11, 487, 812, 588, 9847, 137]  \n"
     ]
    }
   ],
   "source": [
    "from tensorflow.keras.preprocessing.text import Tokenizer\n",
    "\n",
    "# Initialize the tokenizer\n",
    "tokenizer = Tokenizer()\n",
    "tokenizer.fit_on_texts(captions['comment'])\n",
    "\n",
    "# Convert captions to sequences of integers\n",
    "captions['caption_seq'] = tokenizer.texts_to_sequences(captions['comment'])\n",
    "\n",
    "# Check the first few tokenized sequences\n",
    "print(captions[['comment', 'caption_seq']].head())"
   ]
  },
  {
   "cell_type": "code",
   "execution_count": 8,
   "id": "92861863-93fe-4615-9e8a-688ac2822c1b",
   "metadata": {},
   "outputs": [],
   "source": [
    "# Save the tokenizer\n",
    "with open('tokenizer.pkl', 'wb') as f:\n",
    "    pickle.dump(tokenizer, f)"
   ]
  },
  {
   "cell_type": "markdown",
   "id": "1d029545",
   "metadata": {},
   "source": [
    "##### 4.5 Vocabulary Creation"
   ]
  },
  {
   "cell_type": "code",
   "execution_count": 9,
   "id": "8e0c5428",
   "metadata": {},
   "outputs": [
    {
     "name": "stdout",
     "output_type": "stream",
     "text": [
      "Vocabulary size: 5000\n",
      "First 10 words in vocabulary: ['in', 'the', 'on', 'and', 'man', 'is', 'of', 'with', 'woman', 'two']\n"
     ]
    }
   ],
   "source": [
    "from collections import Counter\n",
    "import pickle\n",
    "\n",
    "# Flatten the list of tokenized captions into a single list of words\n",
    "all_words = [word for caption in captions['cleaned_comment'] for word in caption.split()]\n",
    "\n",
    "# Create a Counter to find word frequencies\n",
    "word_counts = Counter(all_words)\n",
    "\n",
    "# Limit vocabulary to top N words (e.g., 5000) based on frequency\n",
    "vocab_size = 5000\n",
    "vocabulary = [word for word, count in word_counts.most_common(vocab_size)]\n",
    "\n",
    "# Save vocabulary as a pickle file for future use\n",
    "with open(\"vocabulary.pkl\", \"wb\") as f:\n",
    "    pickle.dump(vocabulary, f)\n",
    "\n",
    "print(f\"Vocabulary size: {len(vocabulary)}\")\n",
    "print(f\"First 10 words in vocabulary: {vocabulary[:10]}\")\n"
   ]
  },
  {
   "cell_type": "markdown",
   "id": "3cc51c9d",
   "metadata": {},
   "source": [
    "##### 4.6 Sequence Preparation"
   ]
  },
  {
   "cell_type": "code",
   "execution_count": 10,
   "id": "5568bc60",
   "metadata": {},
   "outputs": [
    {
     "name": "stdout",
     "output_type": "stream",
     "text": [
      "Total sequences created: 1514180\n",
      "Sample sequences:\n",
      "Input: ['two'], Output: young\n",
      "Input: ['two', 'young'], Output: guys\n",
      "Input: ['two', 'young', 'guys'], Output: with\n",
      "Input: ['two', 'young', 'guys', 'with'], Output: shaggy\n",
      "Input: ['two', 'young', 'guys', 'with', 'shaggy'], Output: hair\n"
     ]
    }
   ],
   "source": [
    "# Create sequences for each caption\n",
    "sequences = []\n",
    "for caption in captions['cleaned_comment']:\n",
    "    words = caption.split()\n",
    "    for i in range(1, len(words)):\n",
    "        # Input sequence: All words up to the i-th word\n",
    "        in_seq = words[:i]\n",
    "        # Output word: The i-th word\n",
    "        out_word = words[i]\n",
    "        sequences.append((in_seq, out_word))\n",
    "\n",
    "# Display a sample of the generated sequences\n",
    "print(f\"Total sequences created: {len(sequences)}\")\n",
    "print(\"Sample sequences:\")\n",
    "for i in range(5):\n",
    "    print(f\"Input: {sequences[i][0]}, Output: {sequences[i][1]}\")\n"
   ]
  },
  {
   "cell_type": "markdown",
   "id": "2304ae55",
   "metadata": {},
   "source": [
    "### 5. Exploratory Data Analysis"
   ]
  },
  {
   "cell_type": "markdown",
   "id": "6dce78fd",
   "metadata": {},
   "source": [
    "##### 5.1 Plot the Distribution of Caption Lengths"
   ]
  },
  {
   "cell_type": "code",
   "execution_count": 11,
   "id": "bbd27e56",
   "metadata": {},
   "outputs": [
    {
     "data": {
      "image/png": "[encoded data removed]",
      "text/plain": [
       "<Figure size 1000x600 with 1 Axes>"
      ]
     },
     "metadata": {},
     "output_type": "display_data"
    }
   ],
   "source": [
    "import matplotlib.pyplot as plt\n",
    "\n",
    "# Calculate caption lengths\n",
    "captions['caption_length'] = captions['cleaned_comment'].apply(lambda x: len(x.split()))\n",
    "\n",
    "# Plot the distribution of caption lengths\n",
    "plt.figure(figsize=(10, 6))\n",
    "plt.hist(captions['caption_length'], bins=20, color='skyblue')\n",
    "plt.title('Distribution of Caption Lengths')\n",
    "plt.xlabel('Caption Length (words)')\n",
    "plt.ylabel('Frequency')\n",
    "plt.show()\n"
   ]
  },
  {
   "cell_type": "markdown",
   "id": "03bdebf8",
   "metadata": {},
   "source": [
    "##### 5.2 Analyze Word Frequency"
   ]
  },
  {
   "cell_type": "code",
   "execution_count": 12,
   "id": "c55adfff",
   "metadata": {},
   "outputs": [
    {
     "data": {
      "image/png": "[encoded data removed]",
      "text/plain": [
       "<Figure size 1200x600 with 1 Axes>"
      ]
     },
     "metadata": {},
     "output_type": "display_data"
    }
   ],
   "source": [
    "from collections import Counter\n",
    "\n",
    "# Flatten the list of words from all captions\n",
    "all_words = [word for caption in captions['cleaned_comment'] for word in caption.split()]\n",
    "\n",
    "# Count word frequencies\n",
    "word_counts = Counter(all_words)\n",
    "common_words = word_counts.most_common(20)\n",
    "\n",
    "# Plot the most common words\n",
    "words, counts = zip(*common_words)\n",
    "plt.figure(figsize=(12, 6))\n",
    "plt.bar(words, counts, color='coral')\n",
    "plt.title('Top 20 Most Common Words in Captions')\n",
    "plt.xlabel('Words')\n",
    "plt.ylabel('Frequency')\n",
    "plt.xticks(rotation=45)\n",
    "plt.show()\n"
   ]
  },
  {
   "cell_type": "markdown",
   "id": "54e595d0",
   "metadata": {},
   "source": [
    "### 6. Implement Statistical Test of Comparisons"
   ]
  },
  {
   "cell_type": "markdown",
   "id": "94460df6",
   "metadata": {},
   "source": [
    "Hypothesis 1: Longer captions contain a higher diversity of vocabulary than shorter captions.\n",
    "\n",
    "Null Hypothesis (H0): There is no significant difference in vocabulary diversity between longer and shorter captions.\n",
    "\n",
    "Alternative Hypothesis (H1): Longer captions have significantly higher vocabulary diversity than shorter captions."
   ]
  },
  {
   "cell_type": "code",
   "execution_count": 19,
   "id": "37c9b51f",
   "metadata": {},
   "outputs": [
    {
     "name": "stdout",
     "output_type": "stream",
     "text": [
      "Mann-Whitney U Test Results for Vocabulary Diversity:\n",
      "U-statistic = 6086059547.00\n",
      "p-value = 0.0000\n",
      "There is a significant difference in vocabulary diversity between long and short captions.\n"
     ]
    }
   ],
   "source": [
    "from scipy.stats import mannwhitneyu\n",
    "\n",
    "# Define the threshold for caption length (e.g., median)\n",
    "length_threshold = captions['caption_length'].median()\n",
    "\n",
    "# Calculate diversity as the number of unique words per caption\n",
    "captions['unique_word_count'] = captions['cleaned_comment'].apply(lambda x: len(set(x.split())))\n",
    "\n",
    "# Define two groups: long and short captions based on length threshold\n",
    "long_captions = captions[captions['caption_length'] > length_threshold]['unique_word_count']\n",
    "short_captions = captions[captions['caption_length'] <= length_threshold]['unique_word_count']\n",
    "\n",
    "# Perform Mann-Whitney U test to compare vocabulary diversity\n",
    "u_stat, p_value = mannwhitneyu(long_captions, short_captions)\n",
    "\n",
    "print(\"Mann-Whitney U Test Results for Vocabulary Diversity:\")\n",
    "print(f\"U-statistic = {u_stat:.2f}\")\n",
    "print(f\"p-value = {p_value:.4f}\")\n",
    "\n",
    "# Interpretation\n",
    "if p_value < 0.05:\n",
    "    print(\"There is a significant difference in vocabulary diversity between long and short captions.\")\n",
    "else:\n",
    "    print(\"No significant difference in vocabulary diversity between long and short captions.\")\n"
   ]
  },
  {
   "cell_type": "markdown",
   "id": "c906b0e0-78e3-4e06-9682-3d38f832910f",
   "metadata": {},
   "source": [
    "### 5. Feature Extraction"
   ]
  },
  {
   "cell_type": "markdown",
   "id": "0abe32a7-e9c1-492d-b11c-a2632554d6a0",
   "metadata": {},
   "source": [
    "##### 5.1 Load VGG-16 for Feature Extraction and Process each Image"
   ]
  },
  {
   "cell_type": "code",
   "execution_count": 11,
   "id": "b1a90679-7180-4c6c-9e75-86ee3161c059",
   "metadata": {},
   "outputs": [],
   "source": [
    "# Load the VGG16 model\n",
    "base_model = VGG16(weights='imagenet')\n",
    "model = Model(inputs=base_model.input, outputs=base_model.layers[-2].output)  # Use the last layer before the classification layer\n",
    "\n",
    "# Directory where images are stored\n",
    "image_dir = 'D:/Jupyter/Image Description/images/flickr30k_images'\n",
    "\n",
    "# Function to extract features from an image\n",
    "def extract_features(image_path):\n",
    "    # Load the image with the target size of 224x224\n",
    "    image = load_img(image_path, target_size=(224, 224))\n",
    "    # Convert the image to an array and preprocess it\n",
    "    image = img_to_array(image)\n",
    "    image = np.expand_dims(image, axis=0)\n",
    "    image = preprocess_input(image)\n",
    "    # Pass the image through the model and extract features\n",
    "    feature = model.predict(image, verbose=0)\n",
    "    return feature.flatten()\n",
    "\n",
    "# Extract features for all images and save them in a dictionary\n",
    "features = {}\n",
    "for img_name in os.listdir(image_dir):\n",
    "    image_path = os.path.join(image_dir, img_name)\n",
    "    features[img_name] = extract_features(image_path)\n",
    "\n",
    "# Save the features to a file for later use\n",
    "import pickle\n",
    "with open('image_features.pkl', 'wb') as f:\n",
    "    pickle.dump(features, f)"
   ]
  },
  {
   "cell_type": "markdown",
   "id": "eba63e79",
   "metadata": {},
   "source": [
    "##### 5.2 Load Image features from Pickle"
   ]
  },
  {
   "cell_type": "code",
   "execution_count": 18,
   "id": "1199c94b",
   "metadata": {},
   "outputs": [],
   "source": [
    "# Load the image features\n",
    "with open('image_features.pkl', 'rb') as f:\n",
    "    features = pickle.load(f)"
   ]
  }
 ],
 "metadata": {
  "kernelspec": {
   "display_name": "Python 3 (ipykernel)",
   "language": "python",
   "name": "python3"
  },
  "language_info": {
   "codemirror_mode": {
    "name": "ipython",
    "version": 3
   },
   "file_extension": ".py",
   "mimetype": "text/x-python",
   "name": "python",
   "nbconvert_exporter": "python",
   "pygments_lexer": "ipython3",
   "version": "3.11.5"
  }
 },
 "nbformat": 4,
 "nbformat_minor": 5
}
